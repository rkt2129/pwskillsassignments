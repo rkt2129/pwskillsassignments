{
 "cells": [
  {
   "cell_type": "code",
   "execution_count": 4,
   "id": "7f6a416c-99c9-4d83-a8b7-ecee1725076c",
   "metadata": {},
   "outputs": [
    {
     "data": {
      "text/plain": [
       "'ravi'"
      ]
     },
     "execution_count": 4,
     "metadata": {},
     "output_type": "execute_result"
    }
   ],
   "source": [
    "s=\"ravi\"\n",
    "s"
   ]
  },
  {
   "cell_type": "code",
   "execution_count": 2,
   "id": "b3c6e893-319d-4ae7-a341-1bcf8b9cfcfe",
   "metadata": {},
   "outputs": [],
   "source": [
    "l=[1,2.5,5+3j,\"ravi\",s]"
   ]
  },
  {
   "cell_type": "code",
   "execution_count": 3,
   "id": "f8c78724-5129-4a50-82e9-22f6a61e2225",
   "metadata": {},
   "outputs": [
    {
     "data": {
      "text/plain": [
       "[1, 2.5, (5+3j), 'ravi', 'ravi']"
      ]
     },
     "execution_count": 3,
     "metadata": {},
     "output_type": "execute_result"
    }
   ],
   "source": [
    "l"
   ]
  },
  {
   "cell_type": "code",
   "execution_count": 6,
   "id": "d75d88ba-5a3c-44b3-b7b3-6acfc26d7643",
   "metadata": {},
   "outputs": [
    {
     "data": {
      "text/plain": [
       "2.5"
      ]
     },
     "execution_count": 6,
     "metadata": {},
     "output_type": "execute_result"
    }
   ],
   "source": [
    "f=2.5\n",
    "f"
   ]
  },
  {
   "cell_type": "code",
   "execution_count": 7,
   "id": "12d178a3-769b-4a66-8634-aad3eaded735",
   "metadata": {},
   "outputs": [
    {
     "data": {
      "text/plain": [
       "(1, 2.5, 'ravi')"
      ]
     },
     "execution_count": 7,
     "metadata": {},
     "output_type": "execute_result"
    }
   ],
   "source": [
    "t=(1,2.5,'ravi')\n",
    "t"
   ]
  },
  {
   "cell_type": "code",
   "execution_count": 8,
   "id": "8b842983-9287-45d9-a218-1198d1eb246a",
   "metadata": {},
   "outputs": [
    {
     "data": {
      "text/plain": [
       "tuple"
      ]
     },
     "execution_count": 8,
     "metadata": {},
     "output_type": "execute_result"
    }
   ],
   "source": [
    "type(t)"
   ]
  },
  {
   "cell_type": "code",
   "execution_count": 9,
   "id": "cb9f135c-18f9-4f63-9368-f15cf107b17b",
   "metadata": {},
   "outputs": [
    {
     "data": {
      "text/plain": [
       "str"
      ]
     },
     "execution_count": 9,
     "metadata": {},
     "output_type": "execute_result"
    }
   ],
   "source": [
    "var1=''\n",
    "type(var1)"
   ]
  },
  {
   "cell_type": "code",
   "execution_count": 10,
   "id": "97643012-fc28-4e33-84ff-1640019c8ceb",
   "metadata": {},
   "outputs": [
    {
     "data": {
      "text/plain": [
       "str"
      ]
     },
     "execution_count": 10,
     "metadata": {},
     "output_type": "execute_result"
    }
   ],
   "source": [
    "var2='[DS,ML,Python]'\n",
    "type(var2)"
   ]
  },
  {
   "cell_type": "code",
   "execution_count": 12,
   "id": "5d0a2736-a504-49c7-a562-42de25ec6403",
   "metadata": {},
   "outputs": [
    {
     "data": {
      "text/plain": [
       "list"
      ]
     },
     "execution_count": 12,
     "metadata": {},
     "output_type": "execute_result"
    }
   ],
   "source": [
    "var3=['DS','ML','Python']\n",
    "type(var3)"
   ]
  },
  {
   "cell_type": "code",
   "execution_count": 13,
   "id": "8382f134-ed77-40b1-98fc-b4fdb407238b",
   "metadata": {},
   "outputs": [
    {
     "data": {
      "text/plain": [
       "int"
      ]
     },
     "execution_count": 13,
     "metadata": {},
     "output_type": "execute_result"
    }
   ],
   "source": [
    "var4=1\n",
    "type(var4)"
   ]
  },
  {
   "cell_type": "code",
   "execution_count": 14,
   "id": "38c9c0be-b025-45f0-a03d-7735f1b1e982",
   "metadata": {},
   "outputs": [
    {
     "data": {
      "text/plain": [
       "1.25"
      ]
     },
     "execution_count": 14,
     "metadata": {},
     "output_type": "execute_result"
    }
   ],
   "source": [
    "# '/' Division operator is used for division and returns the quotient after complete division\n",
    "5/4"
   ]
  },
  {
   "cell_type": "code",
   "execution_count": 15,
   "id": "a0852aeb-1c5e-4fc6-914a-dfc0d3f71daa",
   "metadata": {},
   "outputs": [
    {
     "data": {
      "text/plain": [
       "1"
      ]
     },
     "execution_count": 15,
     "metadata": {},
     "output_type": "execute_result"
    }
   ],
   "source": [
    "# '%' Modulus Operator returns remainder\n",
    "5%4"
   ]
  },
  {
   "cell_type": "code",
   "execution_count": 16,
   "id": "512c0d3b-5871-481d-8023-50a13cde17d6",
   "metadata": {},
   "outputs": [
    {
     "data": {
      "text/plain": [
       "1"
      ]
     },
     "execution_count": 16,
     "metadata": {},
     "output_type": "execute_result"
    }
   ],
   "source": [
    "# '//' is floor operator which returns the quotient without complete division\n",
    "5//4"
   ]
  },
  {
   "cell_type": "code",
   "execution_count": 17,
   "id": "343f5aa5-46da-4647-8d58-32c146c29ca3",
   "metadata": {},
   "outputs": [
    {
     "data": {
      "text/plain": [
       "8"
      ]
     },
     "execution_count": 17,
     "metadata": {},
     "output_type": "execute_result"
    }
   ],
   "source": [
    "# '**' exponent operator does the power of a number by a factor mentioned\n",
    "2**3"
   ]
  },
  {
   "cell_type": "code",
   "execution_count": 20,
   "id": "5c9fe9d5-8f7b-4fb6-80e2-cc016b51606f",
   "metadata": {},
   "outputs": [
    {
     "name": "stdout",
     "output_type": "stream",
     "text": [
      "1 <class 'int'>\n",
      "2.5 <class 'float'>\n",
      "(3+4j) <class 'complex'>\n",
      "ravi <class 'str'>\n",
      "True <class 'bool'>\n",
      "6.6789 <class 'float'>\n",
      "False <class 'bool'>\n",
      "7 <class 'int'>\n",
      "python <class 'str'>\n",
      "555 <class 'int'>\n"
     ]
    }
   ],
   "source": [
    "ll=[1,2.5,3+4j,'ravi',True,6.6789, False, 7, 'python',555]\n",
    "for i in ll:\n",
    "    print(i,type(i))"
   ]
  },
  {
   "cell_type": "code",
   "execution_count": 23,
   "id": "74d72156-1558-4aa8-b711-be0731e835e7",
   "metadata": {},
   "outputs": [
    {
     "name": "stdin",
     "output_type": "stream",
     "text": [
      " 20\n",
      " 4\n"
     ]
    },
    {
     "name": "stdout",
     "output_type": "stream",
     "text": [
      "Number of times  20  is divisible by  4  = 5.0\n"
     ]
    }
   ],
   "source": [
    "numberA=int(input())\n",
    "numberB=int(input())\n",
    "if numberA%numberB==0:\n",
    "    print(\"Number of times \",numberA,\" is divisible by \",numberB,\" =\",numberA/numberB)"
   ]
  },
  {
   "cell_type": "code",
   "execution_count": 25,
   "id": "3f9a8976-2455-4ea3-a74d-228c7dbb0b9d",
   "metadata": {},
   "outputs": [
    {
     "name": "stdout",
     "output_type": "stream",
     "text": [
      "0  is divisble by 3\n",
      "1  is not divisble by 3\n",
      "2  is not divisble by 3\n",
      "3  is divisble by 3\n",
      "4  is not divisble by 3\n",
      "5  is not divisble by 3\n",
      "6  is divisble by 3\n",
      "7  is not divisble by 3\n",
      "8  is not divisble by 3\n",
      "9  is divisble by 3\n",
      "10  is not divisble by 3\n",
      "11  is not divisble by 3\n",
      "12  is divisble by 3\n",
      "13  is not divisble by 3\n",
      "14  is not divisble by 3\n",
      "15  is divisble by 3\n",
      "16  is not divisble by 3\n",
      "17  is not divisble by 3\n",
      "18  is divisble by 3\n",
      "19  is not divisble by 3\n",
      "20  is not divisble by 3\n",
      "21  is divisble by 3\n",
      "22  is not divisble by 3\n",
      "23  is not divisble by 3\n",
      "24  is divisble by 3\n"
     ]
    }
   ],
   "source": [
    "for i in range(25):\n",
    "    if i%3==0:\n",
    "        print(i,\" is divisble by 3\")\n",
    "    else:\n",
    "        print(i,\" is not divisble by 3\")"
   ]
  },
  {
   "cell_type": "code",
   "execution_count": 30,
   "id": "bbc2ed78-6ba2-4bf7-8b50-32f63ea43955",
   "metadata": {},
   "outputs": [
    {
     "ename": "NameError",
     "evalue": "name 'o' is not defined",
     "output_type": "error",
     "traceback": [
      "\u001b[0;31m---------------------------------------------------------------------------\u001b[0m",
      "\u001b[0;31mNameError\u001b[0m                                 Traceback (most recent call last)",
      "Cell \u001b[0;32mIn[30], line 4\u001b[0m\n\u001b[1;32m      1\u001b[0m \u001b[38;5;66;03m# Mutable data type means whose index value can be changed or replaced. \u001b[39;00m\n\u001b[1;32m      2\u001b[0m \u001b[38;5;66;03m# String is an immutable data type \u001b[39;00m\n\u001b[1;32m      3\u001b[0m s\u001b[38;5;241m=\u001b[39m\u001b[38;5;124m'\u001b[39m\u001b[38;5;124mravi\u001b[39m\u001b[38;5;124m'\u001b[39m\n\u001b[0;32m----> 4\u001b[0m s[\u001b[38;5;241m1\u001b[39m]\u001b[38;5;241m=\u001b[39m\u001b[43mo\u001b[49m\n\u001b[1;32m      5\u001b[0m s\n",
      "\u001b[0;31mNameError\u001b[0m: name 'o' is not defined"
     ]
    }
   ],
   "source": [
    "# Mutable data type means whose index value can be changed or replaced. \n",
    "# String is an immutable data type \n",
    "s='ravi'\n",
    "s[1]=o\n",
    "s"
   ]
  },
  {
   "cell_type": "code",
   "execution_count": 27,
   "id": "1f81cc41-21ab-4d95-bc24-791e3b5b841a",
   "metadata": {},
   "outputs": [
    {
     "data": {
      "text/plain": [
       "[1, 6.7, 'rkt', (5+3j)]"
      ]
     },
     "execution_count": 27,
     "metadata": {},
     "output_type": "execute_result"
    }
   ],
   "source": [
    "#Immutable data type means whose index value cannot be changed or replaced.\n",
    "# List is a mutable data type\n",
    "l=[1,2.5,'rkt',5+3j]\n",
    "l[1]=6.7\n",
    "l"
   ]
  },
  {
   "cell_type": "code",
   "execution_count": 29,
   "id": "ce527d5e-1469-4a6a-887d-cef79419e0c1",
   "metadata": {},
   "outputs": [
    {
     "ename": "TypeError",
     "evalue": "'tuple' object does not support item assignment",
     "output_type": "error",
     "traceback": [
      "\u001b[0;31m---------------------------------------------------------------------------\u001b[0m",
      "\u001b[0;31mTypeError\u001b[0m                                 Traceback (most recent call last)",
      "Cell \u001b[0;32mIn[29], line 4\u001b[0m\n\u001b[1;32m      1\u001b[0m \u001b[38;5;66;03m# Mutable data type means whose index value can be changed or replaced. \u001b[39;00m\n\u001b[1;32m      2\u001b[0m \u001b[38;5;66;03m# Tuple is an immutable data type \u001b[39;00m\n\u001b[1;32m      3\u001b[0m t\u001b[38;5;241m=\u001b[39m(\u001b[38;5;241m1\u001b[39m,\u001b[38;5;241m2.5\u001b[39m,\u001b[38;5;124m'\u001b[39m\u001b[38;5;124mrkt\u001b[39m\u001b[38;5;124m'\u001b[39m,\u001b[38;5;241m5\u001b[39m\u001b[38;5;241m+\u001b[39m\u001b[38;5;241m3\u001b[39mj)\n\u001b[0;32m----> 4\u001b[0m \u001b[43mt\u001b[49m\u001b[43m[\u001b[49m\u001b[38;5;241;43m1\u001b[39;49m\u001b[43m]\u001b[49m\u001b[38;5;241m=\u001b[39m\u001b[38;5;241m6.7\u001b[39m\n\u001b[1;32m      5\u001b[0m t\n",
      "\u001b[0;31mTypeError\u001b[0m: 'tuple' object does not support item assignment"
     ]
    }
   ],
   "source": [
    "# Mutable data type means whose index value can be changed or replaced. \n",
    "# Tuple is an immutable data type \n",
    "t=(1,2.5,'rkt',5+3j)\n",
    "t[1]=6.7\n",
    "t"
   ]
  },
  {
   "cell_type": "code",
   "execution_count": null,
   "id": "1757234e-8e45-42f4-9e9f-536a1e21f596",
   "metadata": {},
   "outputs": [],
   "source": []
  }
 ],
 "metadata": {
  "kernelspec": {
   "display_name": "Python 3 (ipykernel)",
   "language": "python",
   "name": "python3"
  },
  "language_info": {
   "codemirror_mode": {
    "name": "ipython",
    "version": 3
   },
   "file_extension": ".py",
   "mimetype": "text/x-python",
   "name": "python",
   "nbconvert_exporter": "python",
   "pygments_lexer": "ipython3",
   "version": "3.10.8"
  }
 },
 "nbformat": 4,
 "nbformat_minor": 5
}
